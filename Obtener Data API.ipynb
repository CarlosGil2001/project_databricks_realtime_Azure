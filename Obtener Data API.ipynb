{
 "cells": [
  {
   "cell_type": "markdown",
   "metadata": {
    "application/vnd.databricks.v1+cell": {
     "cellMetadata": {
      "byteLimit": 2048000,
      "rowLimit": 10000
     },
     "inputWidgets": {},
     "nuid": "7bd81536-5971-455a-a8a9-faae4773073e",
     "showTitle": false,
     "title": ""
    }
   },
   "source": [
    "#### Conexión al Data Lake Storage"
   ]
  },
  {
   "cell_type": "code",
   "execution_count": null,
   "metadata": {
    "application/vnd.databricks.v1+cell": {
     "cellMetadata": {
      "byteLimit": 2048000,
      "rowLimit": 10000
     },
     "inputWidgets": {},
     "nuid": "f93e1aef-62b7-4fa5-91da-29bf0443d445",
     "showTitle": false,
     "title": ""
    }
   },
   "outputs": [],
   "source": [
    "# Pasar parámetros de conexión:\n",
    "storage_account_name=\"s7databricksg2\"\n",
    "# Llave de token (acceso)\n",
    "storage_account_access_key=\"XXXXXXXXXXXXXXXXXXXXXXXXXXXXXXXXXXXXXXXXXXXXXXXXXXXXXXXX\""
   ]
  },
  {
   "cell_type": "code",
   "execution_count": null,
   "metadata": {
    "application/vnd.databricks.v1+cell": {
     "cellMetadata": {
      "byteLimit": 2048000,
      "rowLimit": 10000
     },
     "inputWidgets": {},
     "nuid": "30c03afb-061c-4213-9b14-978d1cadc923",
     "showTitle": false,
     "title": ""
    }
   },
   "outputs": [],
   "source": [
    "spark.conf.set(\"fs.azure.account.key.\"+storage_account_name+\".blob.core.windows.net\",storage_account_access_key)"
   ]
  },
  {
   "cell_type": "code",
   "execution_count": null,
   "metadata": {
    "application/vnd.databricks.v1+cell": {
     "cellMetadata": {
      "byteLimit": 2048000,
      "rowLimit": 10000
     },
     "inputWidgets": {},
     "nuid": "11db26ff-42b5-4993-9d60-91901c894365",
     "showTitle": false,
     "title": ""
    }
   },
   "outputs": [
    {
     "data": {
      "text/html": [
       "<style scoped>\n",
       "  .table-result-container {\n",
       "    max-height: 300px;\n",
       "    overflow: auto;\n",
       "  }\n",
       "  table, th, td {\n",
       "    border: 1px solid black;\n",
       "    border-collapse: collapse;\n",
       "  }\n",
       "  th, td {\n",
       "    padding: 5px;\n",
       "  }\n",
       "  th {\n",
       "    text-align: left;\n",
       "  }\n",
       "</style><div class='table-result-container'><table class='table-result'><thead style='background-color: white'><tr><th>path</th><th>name</th><th>size</th><th>modificationTime</th></tr></thead><tbody><tr><td>wasbs://proyectog3@s7databricksg2.blob.core.windows.net/ReportePCBienes202209.csv</td><td>ReportePCBienes202209.csv</td><td>6807138</td><td>1684097002000</td></tr><tr><td>wasbs://proyectog3@s7databricksg2.blob.core.windows.net/ReportePCBienes202210.csv</td><td>ReportePCBienes202210.csv</td><td>5824350</td><td>1684097053000</td></tr><tr><td>wasbs://proyectog3@s7databricksg2.blob.core.windows.net/ReportePCBienes202211.csv</td><td>ReportePCBienes202211.csv</td><td>5874956</td><td>1684096999000</td></tr><tr><td>wasbs://proyectog3@s7databricksg2.blob.core.windows.net/ReportePCBienes202212.csv</td><td>ReportePCBienes202212.csv</td><td>4526473</td><td>1684097001000</td></tr><tr><td>wasbs://proyectog3@s7databricksg2.blob.core.windows.net/ReportePCBienes202301.csv</td><td>ReportePCBienes202301.csv</td><td>327480</td><td>1683945697000</td></tr><tr><td>wasbs://proyectog3@s7databricksg2.blob.core.windows.net/ReportePCBienes202302.csv</td><td>ReportePCBienes202302.csv</td><td>3216716</td><td>1683945700000</td></tr><tr><td>wasbs://proyectog3@s7databricksg2.blob.core.windows.net/ReportePCBienes202303.csv</td><td>ReportePCBienes202303.csv</td><td>6690275</td><td>1683945701000</td></tr><tr><td>wasbs://proyectog3@s7databricksg2.blob.core.windows.net/ReportePCBienes202304.csv</td><td>ReportePCBienes202304.csv</td><td>5162253</td><td>1683945700000</td></tr></tbody></table></div>"
      ]
     },
     "metadata": {
      "application/vnd.databricks.v1+output": {
       "addedWidgets": {},
       "aggData": [],
       "aggError": "",
       "aggOverflow": false,
       "aggSchema": [],
       "aggSeriesLimitReached": false,
       "aggType": "",
       "arguments": {},
       "columnCustomDisplayInfos": {},
       "data": [
        [
         "wasbs://proyectog3@s7databricksg2.blob.core.windows.net/ReportePCBienes202209.csv",
         "ReportePCBienes202209.csv",
         6807138,
         1684097002000
        ],
        [
         "wasbs://proyectog3@s7databricksg2.blob.core.windows.net/ReportePCBienes202210.csv",
         "ReportePCBienes202210.csv",
         5824350,
         1684097053000
        ],
        [
         "wasbs://proyectog3@s7databricksg2.blob.core.windows.net/ReportePCBienes202211.csv",
         "ReportePCBienes202211.csv",
         5874956,
         1684096999000
        ],
        [
         "wasbs://proyectog3@s7databricksg2.blob.core.windows.net/ReportePCBienes202212.csv",
         "ReportePCBienes202212.csv",
         4526473,
         1684097001000
        ],
        [
         "wasbs://proyectog3@s7databricksg2.blob.core.windows.net/ReportePCBienes202301.csv",
         "ReportePCBienes202301.csv",
         327480,
         1683945697000
        ],
        [
         "wasbs://proyectog3@s7databricksg2.blob.core.windows.net/ReportePCBienes202302.csv",
         "ReportePCBienes202302.csv",
         3216716,
         1683945700000
        ],
        [
         "wasbs://proyectog3@s7databricksg2.blob.core.windows.net/ReportePCBienes202303.csv",
         "ReportePCBienes202303.csv",
         6690275,
         1683945701000
        ],
        [
         "wasbs://proyectog3@s7databricksg2.blob.core.windows.net/ReportePCBienes202304.csv",
         "ReportePCBienes202304.csv",
         5162253,
         1683945700000
        ]
       ],
       "datasetInfos": [],
       "dbfsResultPath": null,
       "isJsonSchema": true,
       "metadata": {
        "isDbfsCommandResult": false
       },
       "overflow": false,
       "plotOptions": {
        "customPlotOptions": {},
        "displayType": "table",
        "pivotAggregation": null,
        "pivotColumns": null,
        "xColumns": null,
        "yColumns": null
       },
       "removedWidgets": [],
       "schema": [
        {
         "metadata": "{}",
         "name": "path",
         "type": "\"string\""
        },
        {
         "metadata": "{}",
         "name": "name",
         "type": "\"string\""
        },
        {
         "metadata": "{}",
         "name": "size",
         "type": "\"long\""
        },
        {
         "metadata": "{}",
         "name": "modificationTime",
         "type": "\"long\""
        }
       ],
       "type": "table"
      }
     },
     "output_type": "display_data"
    }
   ],
   "source": [
    "%fs ls 'wasbs://proyectog3@s7databricksg2.blob.core.windows.net'"
   ]
  },
  {
   "cell_type": "code",
   "execution_count": null,
   "metadata": {
    "application/vnd.databricks.v1+cell": {
     "cellMetadata": {
      "byteLimit": 2048000,
      "rowLimit": 10000
     },
     "inputWidgets": {},
     "nuid": "bbd7577c-2faf-40a4-80bb-964df2f57e4a",
     "showTitle": false,
     "title": ""
    }
   },
   "outputs": [],
   "source": [
    "from pyspark.sql.types import *\n",
    "\n",
    "schema_empresas = StructType([StructField(\"FECHA_PROCESO\",TimestampType(),True), \\\n",
    "                StructField(\"RUC_PROVEEDOR\",StringType(),True), \\\n",
    "                StructField(\"PROVEEDOR\",StringType(),True), \\\n",
    "                StructField(\"RUC_ENTIDAD\",StringType(),True), \\\n",
    "                StructField(\"ENTIDAD\",StringType(),True), \\\n",
    "                StructField(\"TIPO_PROCEDIMIENTO\",StringType(),True), \\\n",
    "                StructField(\"ORDEN_ELECTRONICA\",StringType(),True), \\\n",
    "                StructField(\"ORDEN_ELECTRONICA_GENERADA\",StringType(),True), \\\n",
    "                StructField(\"ESTADO_ORDEN_ELECTRONICA\", StringType(),True), \\\n",
    "                StructField(\"DOCUMENTO_ESTADO_OCAM\",StringType(),True),\\\n",
    "                StructField(\"FECHA_FORMALIZACION\",TimestampType(),True),\n",
    "                StructField(\"FECHA_ULTIMO_ESTADO\",TimestampType(),True),\n",
    "                StructField(\"SUB_TOTAL\",DecimalType(10,2),True),\n",
    "                StructField(\"IGV\",DecimalType(10,2),True),\n",
    "                StructField(\"TOTAL\",DecimalType(10,2),True),\n",
    "                StructField(\"ORDEN_DIGITALIZADA\",StringType(),True),\n",
    "                StructField(\"DESCRIPCION_ESTADO\",StringType(),True),\n",
    "                StructField(\"DESCRIPCION_CESION_DERECHOS\",StringType(),True),\n",
    "                StructField(\"ACUERDO_MARCO\",StringType(),True),\n",
    "                  ])\n",
    "\n",
    "\n",
    "input_path =\"wasbs://proyectog3@s7databricksg2.blob.core.windows.net/ReportePCBienes*.csv\"\n",
    "df = spark.read.format(\"csv\").option(\"header\", True).option(\"sep\", \";\").schema(schema_empresas).load(input_path)"
   ]
  },
  {
   "cell_type": "markdown",
   "metadata": {
    "application/vnd.databricks.v1+cell": {
     "cellMetadata": {
      "byteLimit": 2048000,
      "rowLimit": 10000
     },
     "inputWidgets": {},
     "nuid": "b54838d7-07d2-48dd-b491-9d5280444adc",
     "showTitle": false,
     "title": ""
    }
   },
   "source": [
    "#### Datos de Empresa obtenidos mediante API"
   ]
  },
  {
   "cell_type": "code",
   "execution_count": null,
   "metadata": {
    "application/vnd.databricks.v1+cell": {
     "cellMetadata": {
      "byteLimit": 2048000,
      "rowLimit": 10000
     },
     "inputWidgets": {},
     "nuid": "4745badb-a652-4f33-a309-fb919d2d3fb4",
     "showTitle": false,
     "title": ""
    }
   },
   "outputs": [
    {
     "name": "stdout",
     "output_type": "stream",
     "text": [
      "Out[11]: 606"
     ]
    }
   ],
   "source": [
    "import requests\n",
    "import pandas as pd\n",
    "\n",
    "\n",
    "# Seleccionamos la columna RUC_PROVEEDOR\n",
    "df_ruc=df.select('RUC_PROVEEDOR').limit(5000)\n",
    "#df.select('RUC_PROVEEDOR').distinct().limit(5000)\n",
    "\n",
    "# Lo convertirmos a pandas\n",
    "df_ruc_p=df_ruc.toPandas()\n",
    "\n",
    "# Función que toma el RUC y usa una API pública para obtener información sobre la empresa \n",
    "def get_ruc(ruc):\n",
    "    url = f'https://api.apis.net.pe/v1/ruc?numero={ruc}'\n",
    "    response = requests.get(url)\n",
    "    if response.status_code == 200:\n",
    "        empresa = response.json()\n",
    "        return empresa\n",
    "    else:\n",
    "        return None\n",
    "\n",
    "# Lista que contendrá la data de las empresas obtenida de la API\n",
    "empresas = []\n",
    "\n",
    "# Iteración que llama a la función get_ruc con el número de RUC y se almacena la información en la lista empresas, siempre y cuando la respuesta de la API sea exitosa\n",
    "for ruc in df_ruc_p['RUC_PROVEEDOR']:\n",
    "    empresa = get_ruc(ruc)\n",
    "    if empresa:\n",
    "        empresas.append(empresa)\n",
    "        \n",
    "df_empresas_p = pd.DataFrame(empresas)\n",
    "df_empresas = spark.createDataFrame(df_empresas_p)\n",
    "df_empresas.count()"
   ]
  },
  {
   "cell_type": "markdown",
   "metadata": {
    "application/vnd.databricks.v1+cell": {
     "cellMetadata": {
      "byteLimit": 2048000,
      "rowLimit": 10000
     },
     "inputWidgets": {},
     "nuid": "7cf8aafd-66ed-4117-ae88-f14a80bf5551",
     "showTitle": false,
     "title": ""
    }
   },
   "source": [
    "##### Guardar en formato delta"
   ]
  },
  {
   "cell_type": "code",
   "execution_count": null,
   "metadata": {
    "application/vnd.databricks.v1+cell": {
     "cellMetadata": {
      "byteLimit": 2048000,
      "rowLimit": 10000
     },
     "inputWidgets": {},
     "nuid": "c0426c4c-00ca-4a12-bd3e-62a0668452df",
     "showTitle": false,
     "title": ""
    }
   },
   "outputs": [],
   "source": [
    "df_empresas.write.format(\"delta\").mode(\"overwrite\").option(\"mergeSchema\", \"true\").save(\"wasbs://proyectog3@s7databricksg2.blob.core.windows.net/EmpresasBronze\")\n",
    "#df_empresas.write.format(\"delta\").mode(\"overwrite\").option(\"mergeSchema\", \"true\").save(\"/user/hive/warehouse/EmpresasBronze\") #comunity"
   ]
  }
 ],
 "metadata": {
  "application/vnd.databricks.v1+notebook": {
   "dashboards": [],
   "language": "python",
   "notebookMetadata": {
    "mostRecentlyExecutedCommandWithImplicitDF": {
     "commandId": 2182443810132455,
     "dataframes": [
      "_sqldf"
     ]
    },
    "pythonIndentUnit": 4
   },
   "notebookName": "Obtener Data API",
   "widgets": {}
  },
  "language_info": {
   "name": "python"
  }
 },
 "nbformat": 4,
 "nbformat_minor": 0
}
